{
 "cells": [
  {
   "cell_type": "markdown",
   "metadata": {},
   "source": [
    "# Testing features before adding in the application"
   ]
  },
  {
   "cell_type": "markdown",
   "metadata": {},
   "source": [
    "Smith : https://smith.langchain.com/o/bdc0c438-d933-463e-8690-6fc96c4f269d/projects/p/29553f54-85f4-4bff-a451-94733c13868c?timeModel=%7B%22duration%22%3A%227d%22%7D"
   ]
  },
  {
   "cell_type": "code",
   "execution_count": 1,
   "metadata": {},
   "outputs": [],
   "source": [
    "# not meant to be scrutinised or viewed and does not follow any order"
   ]
  },
  {
   "cell_type": "code",
   "execution_count": 6,
   "metadata": {},
   "outputs": [],
   "source": [
    "import chromadb\n",
    "\n",
    "chromadb.api.client.SharedSystemClient.clear_system_cache()"
   ]
  },
  {
   "cell_type": "code",
   "execution_count": 4,
   "metadata": {},
   "outputs": [],
   "source": [
    "# Components\n",
    "from langchain_nvidia_ai_endpoints import ChatNVIDIA\n",
    "from langchain_nvidia_ai_endpoints import NVIDIAEmbeddings\n",
    "from langchain_chroma import Chroma\n",
    "\n",
    "model_id = \"meta/llama-3.1-8b-instruct\"\n",
    "llm = ChatNVIDIA(model=model_id)\n",
    "embeddings = NVIDIAEmbeddings(model=\"NV-Embed-QA\")\n",
    "vector_store = Chroma(embedding_function=embeddings)"
   ]
  },
  {
   "cell_type": "code",
   "execution_count": null,
   "metadata": {},
   "outputs": [],
   "source": [
    "loader = UnstructuredPDFLoader(path)\n",
    "data = loader.load()"
   ]
  },
  {
   "cell_type": "code",
   "execution_count": 1,
   "metadata": {},
   "outputs": [],
   "source": [
    "import pytesseract"
   ]
  },
  {
   "cell_type": "code",
   "execution_count": 3,
   "metadata": {},
   "outputs": [],
   "source": [
    "pytesseract.pytesseract.tesseract_cmd = r'C:\\Program Files\\Tesseract-OCR\\tesseract.exe'\n"
   ]
  },
  {
   "cell_type": "code",
   "execution_count": 6,
   "metadata": {},
   "outputs": [
    {
     "data": {
      "text/plain": [
       "\"~ 1082 288 1085 676 0\\na 774 172 852 268 0\\nn 883 184 894 197 0\\n' 894 175 899 205 0\\nt 896 184 906 201 0\\na 908 175 919 217 0\\nt 912 184 924 197 0\\nt 924 184 937 201 0\\na 937 184 949 197 0\\ni 950 184 953 201 0\\nn 955 184 966 197 0\\np 978 179 985 213 0\\ne 986 184 1010 197 0\\na 999 175 1013 217 0\\nc 1011 184 1034 197 0\\ne 1023 175 1038 217 0\\nj 1039 179 1045 201 0\\nu 1046 184 1057 197 0\\ns 1058 184 1069 197 0\\nt 1069 184 1076 201 0\\nb 1083 184 1094 201 0\\ny 1094 179 1106 197 0\\np 766 145 777 163 0\\nu 778 150 789 163 0\\nn 784 141 794 167 0\\ni 791 150 802 163 0\\ns 803 150 806 167 0\\nh 808 150 818 163 0\\ni 819 141 835 167 0\\nn 837 150 848 163 0\\ng 849 145 860 163 0\\nc 868 150 873 167 0\\nr 868 150 890 167 0\\ni 883 150 893 167 0\\nm 892 150 901 167 0\\ni 892 150 909 163 0\\nn 911 150 914 167 0\\na 916 150 927 163 0\\nl 928 150 940 163 0\\ns 941 150 944 167 0\\n. 945 150 961 163 0\\nI 970 150 973 167 0\\nt 975 150 982 167 0\\n' 981 161 985 167 0\\ns 986 150 996 163 0\\nn 1004 150 1015 163 0\\no 1016 150 1028 163 0\\nt 1028 150 1035 167 0\\nt 1036 135 1048 171 0\\nh 1040 150 1058 167 0\\na 1059 150 1071 163 0\\nt 1069 139 1078 167 0\\ns 1084 150 1095 163 0\\ni 1096 150 1099 167 0\\nm 1101 150 1119 163 0\\np 1112 145 1123 167 0\\nl 1120 145 1131 163 0\\ne 1132 150 1136 167 0\\n. 1137 150 1154 163 0\\n~ 0 0 1920 1080 0\\nw 35 17 43 37 0\\nR 35 17 55 37 0\\n> 86 18 105 37 0\\n0 125 22 132 33 0\\n6 125 22 142 33 0\\n: 142 22 145 30 0\\n0 145 22 153 33 0\\n4 146 22 163 33 0\\n/ 170 22 176 33 0\\n2 183 22 200 33 0\\n2 192 22 199 33 0\\n: 199 22 204 33 0\\n5 204 22 213 33 0\\n2 212 22 221 33 0\\n\""
      ]
     },
     "execution_count": 6,
     "metadata": {},
     "output_type": "execute_result"
    }
   ],
   "source": [
    "pytesseract.image_to_boxes(image='C:/Users/HP/Pictures/Screenshots/Screenshot (101).png')"
   ]
  },
  {
   "cell_type": "code",
   "execution_count": null,
   "metadata": {},
   "outputs": [],
   "source": []
  }
 ],
 "metadata": {
  "kernelspec": {
   "display_name": ".venv",
   "language": "python",
   "name": "python3"
  },
  "language_info": {
   "codemirror_mode": {
    "name": "ipython",
    "version": 3
   },
   "file_extension": ".py",
   "mimetype": "text/x-python",
   "name": "python",
   "nbconvert_exporter": "python",
   "pygments_lexer": "ipython3",
   "version": "3.10.4"
  }
 },
 "nbformat": 4,
 "nbformat_minor": 2
}
